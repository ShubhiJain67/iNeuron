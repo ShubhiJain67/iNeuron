{
 "cells": [
  {
   "cell_type": "code",
   "execution_count": 5,
   "metadata": {},
   "outputs": [],
   "source": [
    "## Question Number 1.1"
   ]
  },
  {
   "cell_type": "code",
   "execution_count": 71,
   "metadata": {},
   "outputs": [],
   "source": [
    "def myReduce(func,lis):\n",
    "    ans=func(lis[0],lis[1])\n",
    "    for i in range(2,len(lis)):\n",
    "        ans=func(ans,lis[i])\n",
    "    return ans\n",
    "        "
   ]
  },
  {
   "cell_type": "code",
   "execution_count": 84,
   "metadata": {},
   "outputs": [
    {
     "name": "stdout",
     "output_type": "stream",
     "text": [
      "In-Built reduce function's answer :  120\n",
      "My reduce function's answer :  120\n"
     ]
    }
   ],
   "source": [
    "from functools import reduce\n",
    "func=lambda a,b:a*b\n",
    "lis=[2,3,4,5]\n",
    "print(\"In-Built reduce function's answer : \",reduce(func,lis))\n",
    "print(\"My reduce function's answer : \",myReduce(func,lis))"
   ]
  },
  {
   "cell_type": "code",
   "execution_count": 7,
   "metadata": {},
   "outputs": [],
   "source": [
    "## Question Number 1.2"
   ]
  },
  {
   "cell_type": "code",
   "execution_count": 13,
   "metadata": {},
   "outputs": [],
   "source": [
    "def myFilter(func,lis):\n",
    "    for i in lis:\n",
    "        if func(i)==True:\n",
    "            yield i"
   ]
  },
  {
   "cell_type": "code",
   "execution_count": 16,
   "metadata": {},
   "outputs": [
    {
     "name": "stdout",
     "output_type": "stream",
     "text": [
      "[5, 6, 7, 8, 9]\n"
     ]
    }
   ],
   "source": [
    "ans=list(myFilter(lambda a:a>4,range(10)))\n",
    "print(ans)"
   ]
  },
  {
   "cell_type": "code",
   "execution_count": 20,
   "metadata": {},
   "outputs": [],
   "source": [
    "## Question Number 3"
   ]
  },
  {
   "cell_type": "code",
   "execution_count": 62,
   "metadata": {},
   "outputs": [
    {
     "name": "stdout",
     "output_type": "stream",
     "text": [
      "['x', 'xx', 'xxx', 'xxxx', 'y', 'yy', 'yyy', 'yyyy', 'z', 'zz', 'zzz', 'zzzz']\n"
     ]
    }
   ],
   "source": [
    "## Part 1\n",
    "lis=['x','y','z']\n",
    "ans=[]\n",
    "for i in lis:\n",
    "    for t in range(1,5):\n",
    "        ans.append(i*t)\n",
    "print(ans)"
   ]
  },
  {
   "cell_type": "code",
   "execution_count": 63,
   "metadata": {},
   "outputs": [
    {
     "name": "stdout",
     "output_type": "stream",
     "text": [
      "['x', 'y', 'z', 'xx', 'yy', 'zz', 'xxx', 'yyy', 'zzz', 'xxxx', 'yyyy', 'zzzz']\n"
     ]
    }
   ],
   "source": [
    "## Part 2\n",
    "lis=['x','y','z']\n",
    "ans=[]\n",
    "for t in range(1,5):\n",
    "    for i in lis:\n",
    "        ans.append(i*t)\n",
    "print(ans)"
   ]
  },
  {
   "cell_type": "code",
   "execution_count": 70,
   "metadata": {},
   "outputs": [
    {
     "name": "stdout",
     "output_type": "stream",
     "text": [
      "[[[2], [3], [4], [3], [4], [5], [4], [5], [6], [5], [6], [7]], [[2, 3, 4, 5], [3, 4, 5, 6], [4, 5, 6, 7], [5, 6, 7, 8]]]\n"
     ]
    }
   ],
   "source": [
    "## Part 3\n",
    "lis=[2,3,4,5]\n",
    "ans=[]\n",
    "tempAns=[]\n",
    "for i in lis:\n",
    "    for s in range(3):\n",
    "        tempAns.append([i+s])\n",
    "ans.append(tempAns)\n",
    "tempAns=[]\n",
    "for s in range(4):\n",
    "    tempAns.append([i+s for i in lis])\n",
    "ans.append(tempAns)\n",
    "print(ans)"
   ]
  },
  {
   "cell_type": "code",
   "execution_count": 66,
   "metadata": {},
   "outputs": [
    {
     "name": "stdout",
     "output_type": "stream",
     "text": [
      "[[1, 1], [2, 1], [3, 1], [1, 2], [2, 2], [3, 2], [1, 3], [2, 3], [3, 3]]\n"
     ]
    }
   ],
   "source": [
    "## Part 4\n",
    "lis=[1,2,3]\n",
    "ans=[]\n",
    "for i in lis:\n",
    "    for j in lis:\n",
    "        ans.append([j,i])\n",
    "print(ans)"
   ]
  },
  {
   "cell_type": "code",
   "execution_count": null,
   "metadata": {},
   "outputs": [],
   "source": []
  }
 ],
 "metadata": {
  "kernelspec": {
   "display_name": "Python 3",
   "language": "python",
   "name": "python3"
  },
  "language_info": {
   "codemirror_mode": {
    "name": "ipython",
    "version": 3
   },
   "file_extension": ".py",
   "mimetype": "text/x-python",
   "name": "python",
   "nbconvert_exporter": "python",
   "pygments_lexer": "ipython3",
   "version": "3.7.6"
  }
 },
 "nbformat": 4,
 "nbformat_minor": 4
}
